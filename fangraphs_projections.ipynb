{
 "cells": [
  {
   "cell_type": "markdown",
   "metadata": {},
   "source": [
    "# Capturing Player Projections from Fangraphs\n",
    "\n",
    "This notebook is designed to gather the various player projections from Fangraphs.com, calculate their expected Fangraph points based on projections, and output the data to a file.\n",
    "\n",
    "## Fangraph Points Scoring\n",
    "\n",
    "https://ottoneu.fangraphs.com/scoringoptions\n",
    "\n",
    "**Hitting**\n",
    "\n",
    "| Category | Points |\n",
    "|----------|-------:|\n",
    "| AB       |   -1.0 |\n",
    "| H        |    5.6 |\n",
    "| 2B       |    2.9 |\n",
    "| 3B       |    5.7 |\n",
    "| HR       |    9.4 |\n",
    "| HBP      |    3.0 |\n",
    "| SB       |    1.9 |\n",
    "| CS       |   -2.8 |\n",
    "\n",
    "**Pitching**\n",
    "\n",
    "| Category | Points |\n",
    "|----------|-------:|\n",
    "| IP       |    7.4 |\n",
    "| K        |    2.0 |\n",
    "| H        |   -2.6 |\n",
    "| BB       |   -3.0 |\n",
    "| HBP      |   -3.0 |\n",
    "| HR       |  -12.3 |\n",
    "| SV       |    5.0 |\n",
    "| HOLDS    |    4.0 |"
   ]
  },
  {
   "cell_type": "code",
   "execution_count": 44,
   "metadata": {},
   "outputs": [],
   "source": [
    "# packages\n",
    "import pandas as pd\n",
    "import os\n",
    "import numpy as np\n",
    "import pybaseball"
   ]
  },
  {
   "cell_type": "code",
   "execution_count": 41,
   "metadata": {},
   "outputs": [
    {
     "data": {
      "text/html": [
       "<div>\n",
       "<style scoped>\n",
       "    .dataframe tbody tr th:only-of-type {\n",
       "        vertical-align: middle;\n",
       "    }\n",
       "\n",
       "    .dataframe tbody tr th {\n",
       "        vertical-align: top;\n",
       "    }\n",
       "\n",
       "    .dataframe thead th {\n",
       "        text-align: right;\n",
       "    }\n",
       "</style>\n",
       "<table border=\"1\" class=\"dataframe\">\n",
       "  <thead>\n",
       "    <tr style=\"text-align: right;\">\n",
       "      <th></th>\n",
       "      <th>category</th>\n",
       "      <th>points</th>\n",
       "    </tr>\n",
       "  </thead>\n",
       "  <tbody>\n",
       "    <tr>\n",
       "      <th>0</th>\n",
       "      <td>AB</td>\n",
       "      <td>-1.0</td>\n",
       "    </tr>\n",
       "    <tr>\n",
       "      <th>1</th>\n",
       "      <td>H</td>\n",
       "      <td>5.6</td>\n",
       "    </tr>\n",
       "    <tr>\n",
       "      <th>2</th>\n",
       "      <td>2B</td>\n",
       "      <td>2.9</td>\n",
       "    </tr>\n",
       "    <tr>\n",
       "      <th>3</th>\n",
       "      <td>3B</td>\n",
       "      <td>5.7</td>\n",
       "    </tr>\n",
       "    <tr>\n",
       "      <th>4</th>\n",
       "      <td>HR</td>\n",
       "      <td>9.4</td>\n",
       "    </tr>\n",
       "    <tr>\n",
       "      <th>5</th>\n",
       "      <td>HBP</td>\n",
       "      <td>3.0</td>\n",
       "    </tr>\n",
       "    <tr>\n",
       "      <th>6</th>\n",
       "      <td>SB</td>\n",
       "      <td>1.9</td>\n",
       "    </tr>\n",
       "    <tr>\n",
       "      <th>7</th>\n",
       "      <td>CS</td>\n",
       "      <td>-2.8</td>\n",
       "    </tr>\n",
       "  </tbody>\n",
       "</table>\n",
       "</div>"
      ],
      "text/plain": [
       "  category  points\n",
       "0       AB    -1.0\n",
       "1        H     5.6\n",
       "2       2B     2.9\n",
       "3       3B     5.7\n",
       "4       HR     9.4\n",
       "5      HBP     3.0\n",
       "6       SB     1.9\n",
       "7       CS    -2.8"
      ]
     },
     "execution_count": 41,
     "metadata": {},
     "output_type": "execute_result"
    }
   ],
   "source": [
    "# dataframes containing fangraph scoring method for batting\n",
    "bats_pts = pd.DataFrame({'category':['AB', 'H', '2B', '3B', 'HR', 'HBP', 'SB', 'CS']\\\n",
    "                         , 'points': [-1.0, 5.6, 2.9, 5.7, 9.4, 3.0, 1.9, -2.8]})\n",
    "\n",
    "bats_pts"
   ]
  },
  {
   "cell_type": "markdown",
   "metadata": {},
   "source": [
    "## Data\n",
    "\n",
    "Data was manually extracted from Fangraphs and saved as CSVs."
   ]
  },
  {
   "cell_type": "code",
   "execution_count": 16,
   "metadata": {},
   "outputs": [],
   "source": [
    "bats = pd.read_csv('data\\\\fg_bat_steamer_2020.csv')\n",
    "# bats.head()\n",
    "bat_cols = ['playerid', 'AB', 'H', '2B', '3B', 'HR', 'HBP', 'SB', 'CS']"
   ]
  },
  {
   "cell_type": "code",
   "execution_count": 42,
   "metadata": {},
   "outputs": [],
   "source": [
    "# unpivot bats, join to \n",
    "bats_up = bats[bat_cols].melt(id_vars=['playerid'], var_name='category', value_name='projection')\n",
    "\n",
    "# merge to fangraphs points\n",
    "bats_up = bats_up.merge(bats_pts, on='category')\n",
    "\n",
    "# multiply projection and points\n",
    "bats_up['FG_PTS'] = np.multiply(bats_up['projection'], bats_up['points'])\n",
    "\n",
    "# aggregate by player to get total projected points\n",
    "bats_up = bats_up.groupby('playerid')['FG_PTS'].sum().reset_index()\n",
    "\n",
    "# join back to original data\n",
    "bats = bats.merge(bats_up, on = 'playerid')"
   ]
  },
  {
   "cell_type": "code",
   "execution_count": 51,
   "metadata": {},
   "outputs": [],
   "source": [
    "bats.to_csv('data\\\\batting_projections.csv')"
   ]
  },
  {
   "cell_type": "code",
   "execution_count": null,
   "metadata": {},
   "outputs": [],
   "source": []
  }
 ],
 "metadata": {
  "kernelspec": {
   "display_name": "Python 3",
   "language": "python",
   "name": "python3"
  },
  "language_info": {
   "codemirror_mode": {
    "name": "ipython",
    "version": 3
   },
   "file_extension": ".py",
   "mimetype": "text/x-python",
   "name": "python",
   "nbconvert_exporter": "python",
   "pygments_lexer": "ipython3",
   "version": "3.7.4"
  }
 },
 "nbformat": 4,
 "nbformat_minor": 2
}
